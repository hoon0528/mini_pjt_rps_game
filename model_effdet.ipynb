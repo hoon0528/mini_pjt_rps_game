{
 "cells": [
  {
   "cell_type": "code",
   "execution_count": null,
   "metadata": {},
   "outputs": [],
   "source": [
    "try:\n",
    "    from google.colab import drive\n",
    "    drive.mount('/content/drive')\n",
    "    print('g-drive mounted.')\n",
    "    colab = True\n",
    "except:\n",
    "    print('local drive.')\n",
    "    colab = False"
   ]
  },
  {
   "cell_type": "code",
   "execution_count": null,
   "metadata": {},
   "outputs": [],
   "source": [
    "# save_dir: 다른 경로에 저장하려면, 아래 경로를 수정하세요\n",
    "if colab :\n",
    "  save_dir = '/content/drive/MyDrive/Bootcamp/files/save/'\n",
    "else :\n",
    "  save_dir = '../files/save/'"
   ]
  },
  {
   "cell_type": "code",
   "execution_count": null,
   "metadata": {},
   "outputs": [],
   "source": [
    "import os\n",
    "import pathlib\n",
    "\n",
    "print(pathlib.Path.cwd().parts)\n",
    "\n",
    "# Clone the tensorflow models repository if it doesn't already exist\n",
    "if \"models\" in pathlib.Path.cwd().parts:\n",
    "    while \"models\" in pathlib.Path.cwd().parts:\n",
    "        os.chdir('..')\n",
    "elif not pathlib.Path('models').exists():\n",
    "    !git clone --depth 1 https://github.com/tensorflow/models"
   ]
  },
  {
   "cell_type": "code",
   "execution_count": null,
   "metadata": {},
   "outputs": [],
   "source": [
    "# Install the Object Detection API\n",
    "%%bash\n",
    "cd models/research/\n",
    "protoc object_detection/protos/*.proto --python_out=.\n",
    "# cp object_detection/packages/tf2/setup.py .  # 2024.4부터 버전 문제 있음\n",
    "cp /content/drive/MyDrive/Bootcamp/files/setup.py .  # 버전 문제 패치\n",
    "pip install -q ."
   ]
  },
  {
   "cell_type": "code",
   "execution_count": null,
   "metadata": {},
   "outputs": [],
   "source": [
    "import tensorflow as tf\n",
    "import tensorflow_hub as hub\n",
    "from object_detection.utils import config_util\n",
    "from object_detection.protos import pipeline_pb2\n",
    "from google.protobuf import text_format\n",
    "\n",
    "from tensorflow.python.keras.utils.data_utils import get_file"
   ]
  },
  {
   "cell_type": "code",
   "execution_count": null,
   "metadata": {},
   "outputs": [],
   "source": [
    "# Download pre-trained EfficientDet model\n",
    "modelUrl = 'http://download.tensorflow.org/models/object_detection/tf2/20200711/efficientdet_d0_coco17_tpu-32.tar.gz'\n",
    "\n",
    "filename = os.path.basename(modelUrl)\n",
    "modelname = filename[:filename.index('.')]\n",
    "print(filename, modelname, sep='\\n')\n",
    "\n",
    "cacheDir = '.'\n",
    "get_file(fname=filename, origin=modelUrl, cache_dir=cacheDir, cache_subdir='.', extract=True)\n",
    "\n",
    "# The model should now be downloaded and extracted in /content\n",
    "# Define the model path\n",
    "model_path = os.path.join(cacheDir, modelname)"
   ]
  }
 ],
 "metadata": {
  "kernelspec": {
   "display_name": "pjt",
   "language": "python",
   "name": "python3"
  },
  "language_info": {
   "name": "python",
   "version": "3.10.14"
  }
 },
 "nbformat": 4,
 "nbformat_minor": 2
}
